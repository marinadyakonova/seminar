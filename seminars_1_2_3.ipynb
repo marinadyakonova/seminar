{
 "cells": [
  {
   "cell_type": "code",
   "execution_count": 1,
   "id": "endless-technology",
   "metadata": {},
   "outputs": [
    {
     "name": "stdout",
     "output_type": "stream",
     "text": [
      "jwejwnekgnwb\n"
     ]
    }
   ],
   "source": [
    "print(\"jwejwnekgnwb\")"
   ]
  },
  {
   "cell_type": "code",
   "execution_count": 2,
   "id": "according-cleaning",
   "metadata": {},
   "outputs": [
    {
     "data": {
      "text/plain": [
       "4"
      ]
     },
     "execution_count": 2,
     "metadata": {},
     "output_type": "execute_result"
    }
   ],
   "source": [
    "2+2"
   ]
  },
  {
   "cell_type": "code",
   "execution_count": 3,
   "id": "subjective-stable",
   "metadata": {},
   "outputs": [
    {
     "data": {
      "text/plain": [
       "13"
      ]
     },
     "execution_count": 3,
     "metadata": {},
     "output_type": "execute_result"
    }
   ],
   "source": [
    "55//4"
   ]
  },
  {
   "cell_type": "code",
   "execution_count": 4,
   "id": "hollow-nickname",
   "metadata": {},
   "outputs": [
    {
     "data": {
      "text/plain": [
       "3"
      ]
     },
     "execution_count": 4,
     "metadata": {},
     "output_type": "execute_result"
    }
   ],
   "source": [
    "55%4"
   ]
  },
  {
   "cell_type": "code",
   "execution_count": 5,
   "id": "indie-stopping",
   "metadata": {},
   "outputs": [],
   "source": [
    "x=4"
   ]
  },
  {
   "cell_type": "code",
   "execution_count": 6,
   "id": "played-girlfriend",
   "metadata": {},
   "outputs": [
    {
     "data": {
      "text/plain": [
       "9"
      ]
     },
     "execution_count": 6,
     "metadata": {},
     "output_type": "execute_result"
    }
   ],
   "source": [
    "x+5"
   ]
  },
  {
   "cell_type": "code",
   "execution_count": 7,
   "id": "brilliant-shore",
   "metadata": {},
   "outputs": [
    {
     "data": {
      "text/plain": [
       "int"
      ]
     },
     "execution_count": 7,
     "metadata": {},
     "output_type": "execute_result"
    }
   ],
   "source": [
    "type(14)"
   ]
  },
  {
   "cell_type": "code",
   "execution_count": 8,
   "id": "bigger-annotation",
   "metadata": {},
   "outputs": [
    {
     "data": {
      "text/plain": [
       "int"
      ]
     },
     "execution_count": 8,
     "metadata": {},
     "output_type": "execute_result"
    }
   ],
   "source": [
    "type(x)"
   ]
  },
  {
   "cell_type": "code",
   "execution_count": 9,
   "id": "affecting-brook",
   "metadata": {},
   "outputs": [
    {
     "data": {
      "text/plain": [
       "'4'"
      ]
     },
     "execution_count": 9,
     "metadata": {},
     "output_type": "execute_result"
    }
   ],
   "source": [
    "str(x)"
   ]
  },
  {
   "cell_type": "code",
   "execution_count": 10,
   "id": "analyzed-pacific",
   "metadata": {},
   "outputs": [
    {
     "data": {
      "text/plain": [
       "str"
      ]
     },
     "execution_count": 10,
     "metadata": {},
     "output_type": "execute_result"
    }
   ],
   "source": [
    "type(\"kuku\")"
   ]
  },
  {
   "cell_type": "code",
   "execution_count": 11,
   "id": "interracial-bacon",
   "metadata": {},
   "outputs": [
    {
     "data": {
      "text/plain": [
       "1.0"
      ]
     },
     "execution_count": 11,
     "metadata": {},
     "output_type": "execute_result"
    }
   ],
   "source": [
    "5/5"
   ]
  },
  {
   "cell_type": "code",
   "execution_count": 12,
   "id": "asian-modern",
   "metadata": {},
   "outputs": [],
   "source": [
    "y=5/5"
   ]
  },
  {
   "cell_type": "code",
   "execution_count": 13,
   "id": "nervous-mambo",
   "metadata": {},
   "outputs": [
    {
     "data": {
      "text/plain": [
       "float"
      ]
     },
     "execution_count": 13,
     "metadata": {},
     "output_type": "execute_result"
    }
   ],
   "source": [
    "type(y)"
   ]
  },
  {
   "cell_type": "code",
   "execution_count": 14,
   "id": "fixed-segment",
   "metadata": {},
   "outputs": [
    {
     "data": {
      "text/plain": [
       "1"
      ]
     },
     "execution_count": 14,
     "metadata": {},
     "output_type": "execute_result"
    }
   ],
   "source": [
    "int(y)"
   ]
  },
  {
   "cell_type": "code",
   "execution_count": 15,
   "id": "peaceful-president",
   "metadata": {},
   "outputs": [],
   "source": [
    "y=int(y)"
   ]
  },
  {
   "cell_type": "code",
   "execution_count": 16,
   "id": "thousand-launch",
   "metadata": {},
   "outputs": [
    {
     "data": {
      "text/plain": [
       "1"
      ]
     },
     "execution_count": 16,
     "metadata": {},
     "output_type": "execute_result"
    }
   ],
   "source": [
    "y"
   ]
  },
  {
   "cell_type": "code",
   "execution_count": 17,
   "id": "respected-punishment",
   "metadata": {},
   "outputs": [
    {
     "data": {
      "text/plain": [
       "55"
      ]
     },
     "execution_count": 17,
     "metadata": {},
     "output_type": "execute_result"
    }
   ],
   "source": [
    "max(34,55,23,22,1)"
   ]
  },
  {
   "cell_type": "code",
   "execution_count": 18,
   "id": "static-priest",
   "metadata": {},
   "outputs": [
    {
     "name": "stdout",
     "output_type": "stream",
     "text": [
      "gkrgegpo\n"
     ]
    }
   ],
   "source": [
    "print(\"gkrgegpo\")"
   ]
  },
  {
   "cell_type": "code",
   "execution_count": 20,
   "id": "inside-specification",
   "metadata": {},
   "outputs": [
    {
     "name": "stdout",
     "output_type": "stream",
     "text": [
      "vpskdldsk 55\n"
     ]
    }
   ],
   "source": [
    "print(\"vpskdldsk\",22+33)"
   ]
  },
  {
   "cell_type": "code",
   "execution_count": 25,
   "id": "sitting-night",
   "metadata": {},
   "outputs": [
    {
     "name": "stdout",
     "output_type": "stream",
     "text": [
      "vpskdldsk aaaaaaaaaaa_____ 55 aaaaaaaaaaa_____ text aaaaaaaaaaa_____ 3.6666666666666665\n"
     ]
    }
   ],
   "source": [
    "print(\"vpskdldsk\",22+33, \"text\", 11/3, sep=\" aaaaaaaaaaa_____ \")"
   ]
  },
  {
   "cell_type": "code",
   "execution_count": 22,
   "id": "swiss-luther",
   "metadata": {},
   "outputs": [
    {
     "name": "stdout",
     "output_type": "stream",
     "text": [
      "123456\n"
     ]
    }
   ],
   "source": [
    "print(\"123\"+\"456\")"
   ]
  },
  {
   "cell_type": "code",
   "execution_count": 23,
   "id": "analyzed-slovenia",
   "metadata": {},
   "outputs": [
    {
     "name": "stdout",
     "output_type": "stream",
     "text": [
      "vpskdldsk 55\n",
      "lalalalalalol\n"
     ]
    }
   ],
   "source": [
    "print(\"vpskdldsk\",22+33, end=\"\\n\");print(\"lalalalalalol\")"
   ]
  },
  {
   "cell_type": "code",
   "execution_count": 26,
   "id": "infrared-brooklyn",
   "metadata": {},
   "outputs": [],
   "source": [
    "a= \"egor\""
   ]
  },
  {
   "cell_type": "code",
   "execution_count": 27,
   "id": "classified-payday",
   "metadata": {},
   "outputs": [],
   "source": [
    "b= \"lox\""
   ]
  },
  {
   "cell_type": "code",
   "execution_count": 28,
   "id": "inner-delight",
   "metadata": {},
   "outputs": [
    {
     "name": "stdout",
     "output_type": "stream",
     "text": [
      "egorlox\n"
     ]
    }
   ],
   "source": [
    "print(a+b)"
   ]
  },
  {
   "cell_type": "code",
   "execution_count": 29,
   "id": "young-maldives",
   "metadata": {},
   "outputs": [
    {
     "name": "stdout",
     "output_type": "stream",
     "text": [
      "egor ne lox\n"
     ]
    }
   ],
   "source": [
    "print(\"{} ne {}\" .format(a,b))"
   ]
  },
  {
   "cell_type": "code",
   "execution_count": 30,
   "id": "psychological-oxford",
   "metadata": {},
   "outputs": [
    {
     "name": "stdout",
     "output_type": "stream",
     "text": [
      "lox ne egor\n"
     ]
    }
   ],
   "source": [
    "print(\"{} ne {}\" .format(b,a))"
   ]
  },
  {
   "cell_type": "code",
   "execution_count": 31,
   "id": "geographic-valuation",
   "metadata": {},
   "outputs": [
    {
     "name": "stdout",
     "output_type": "stream",
     "text": [
      "lox ne lox\n"
     ]
    }
   ],
   "source": [
    "print(\"{} ne {}\" .format(b\n",
    "                         ,b))"
   ]
  },
  {
   "cell_type": "code",
   "execution_count": 32,
   "id": "spanish-freeze",
   "metadata": {},
   "outputs": [
    {
     "name": "stdout",
     "output_type": "stream",
     "text": [
      "минимум из ряда чисел = -101\n"
     ]
    }
   ],
   "source": [
    "test22 = min(9,0,3,22,4,4,22,67,-1,-101,25,-11); print(\"минимум из ряда чисел\", test22, sep=\" = \")"
   ]
  },
  {
   "cell_type": "code",
   "execution_count": 40,
   "id": "complimentary-library",
   "metadata": {},
   "outputs": [
    {
     "name": "stdout",
     "output_type": "stream",
     "text": [
      "                egorlox.........\n"
     ]
    }
   ],
   "source": [
    "print(\"{:>20s}{:.<12s}\" .format(a,b))"
   ]
  },
  {
   "cell_type": "code",
   "execution_count": 1,
   "id": "upset-denial",
   "metadata": {},
   "outputs": [
    {
     "data": {
      "text/plain": [
       "4"
      ]
     },
     "execution_count": 1,
     "metadata": {},
     "output_type": "execute_result"
    }
   ],
   "source": [
    "2+2"
   ]
  },
  {
   "cell_type": "code",
   "execution_count": 2,
   "id": "catholic-scene",
   "metadata": {},
   "outputs": [],
   "source": [
    "animals=[\"elefant\",\"tiger\",\"lion\",\"camel\",\"otter\"]"
   ]
  },
  {
   "cell_type": "code",
   "execution_count": 3,
   "id": "metallic-queens",
   "metadata": {},
   "outputs": [
    {
     "data": {
      "text/plain": [
       "['elefant', 'tiger', 'lion', 'camel', 'otter']"
      ]
     },
     "execution_count": 3,
     "metadata": {},
     "output_type": "execute_result"
    }
   ],
   "source": [
    "animals"
   ]
  },
  {
   "cell_type": "code",
   "execution_count": 4,
   "id": "hourly-sheet",
   "metadata": {},
   "outputs": [
    {
     "data": {
      "text/plain": [
       "list"
      ]
     },
     "execution_count": 4,
     "metadata": {},
     "output_type": "execute_result"
    }
   ],
   "source": [
    "type(animals)"
   ]
  },
  {
   "cell_type": "code",
   "execution_count": 5,
   "id": "intellectual-mouth",
   "metadata": {},
   "outputs": [],
   "source": [
    "numbers=[0,1,2,3,4,5,6,7,8,9]"
   ]
  },
  {
   "cell_type": "code",
   "execution_count": 6,
   "id": "simplified-bridge",
   "metadata": {},
   "outputs": [],
   "source": [
    "mixed=[-1,0,2,'cat']"
   ]
  },
  {
   "cell_type": "code",
   "execution_count": 7,
   "id": "asian-florida",
   "metadata": {},
   "outputs": [],
   "source": [
    "mixed=[-1,0.2,'cat']"
   ]
  },
  {
   "cell_type": "code",
   "execution_count": 8,
   "id": "suitable-judges",
   "metadata": {},
   "outputs": [
    {
     "data": {
      "text/plain": [
       "'otter'"
      ]
     },
     "execution_count": 8,
     "metadata": {},
     "output_type": "execute_result"
    }
   ],
   "source": [
    "animals[4]"
   ]
  },
  {
   "cell_type": "code",
   "execution_count": 9,
   "id": "nasty-vermont",
   "metadata": {},
   "outputs": [
    {
     "data": {
      "text/plain": [
       "'otter'"
      ]
     },
     "execution_count": 9,
     "metadata": {},
     "output_type": "execute_result"
    }
   ],
   "source": [
    "animals[-1]"
   ]
  },
  {
   "cell_type": "code",
   "execution_count": 14,
   "id": "mental-youth",
   "metadata": {},
   "outputs": [
    {
     "data": {
      "text/plain": [
       "'8 cat'"
      ]
     },
     "execution_count": 14,
     "metadata": {},
     "output_type": "execute_result"
    }
   ],
   "source": [
    "str(numbers[8])+ \" \"+ mixed[2]"
   ]
  },
  {
   "cell_type": "code",
   "execution_count": 16,
   "id": "portable-greeting",
   "metadata": {},
   "outputs": [
    {
     "ename": "TypeError",
     "evalue": "list indices must be integers or slices, not tuple",
     "output_type": "error",
     "traceback": [
      "\u001b[0;31m---------------------------------------------------------------------------\u001b[0m",
      "\u001b[0;31mTypeError\u001b[0m                                 Traceback (most recent call last)",
      "\u001b[0;32m<ipython-input-16-54c24f9d9ca5>\u001b[0m in \u001b[0;36m<module>\u001b[0;34m\u001b[0m\n\u001b[0;32m----> 1\u001b[0;31m \u001b[0manimals\u001b[0m\u001b[0;34m[\u001b[0m\u001b[0;36m0\u001b[0m\u001b[0;34m,\u001b[0m\u001b[0;36m4\u001b[0m\u001b[0;34m]\u001b[0m\u001b[0;34m\u001b[0m\u001b[0;34m\u001b[0m\u001b[0m\n\u001b[0m",
      "\u001b[0;31mTypeError\u001b[0m: list indices must be integers or slices, not tuple"
     ]
    }
   ],
   "source": [
    "animals[0,4]"
   ]
  },
  {
   "cell_type": "code",
   "execution_count": 17,
   "id": "artistic-election",
   "metadata": {},
   "outputs": [],
   "source": [
    "zoo=[animals, numbers, mixed, 14,'racoon']"
   ]
  },
  {
   "cell_type": "code",
   "execution_count": 18,
   "id": "seventh-stable",
   "metadata": {},
   "outputs": [
    {
     "data": {
      "text/plain": [
       "[['elefant', 'tiger', 'lion', 'camel', 'otter'],\n",
       " [0, 1, 2, 3, 4, 5, 6, 7, 8, 9],\n",
       " [-1, 0.2, 'cat'],\n",
       " 14,\n",
       " 'racoon']"
      ]
     },
     "execution_count": 18,
     "metadata": {},
     "output_type": "execute_result"
    }
   ],
   "source": [
    "zoo"
   ]
  },
  {
   "cell_type": "code",
   "execution_count": 19,
   "id": "alleged-torture",
   "metadata": {},
   "outputs": [
    {
     "data": {
      "text/plain": [
       "[-1, 0.2, 'cat']"
      ]
     },
     "execution_count": 19,
     "metadata": {},
     "output_type": "execute_result"
    }
   ],
   "source": [
    "zoo[2]"
   ]
  },
  {
   "cell_type": "code",
   "execution_count": 20,
   "id": "spiritual-ethics",
   "metadata": {},
   "outputs": [
    {
     "data": {
      "text/plain": [
       "'cat'"
      ]
     },
     "execution_count": 20,
     "metadata": {},
     "output_type": "execute_result"
    }
   ],
   "source": [
    "zoo[2] [2]"
   ]
  },
  {
   "cell_type": "code",
   "execution_count": 21,
   "id": "legendary-denial",
   "metadata": {},
   "outputs": [
    {
     "data": {
      "text/plain": [
       "['elefant', 'tiger', 'lion', 'camel', 'otter', 'dog']"
      ]
     },
     "execution_count": 21,
     "metadata": {},
     "output_type": "execute_result"
    }
   ],
   "source": [
    "animals+['dog']"
   ]
  },
  {
   "cell_type": "code",
   "execution_count": 22,
   "id": "balanced-terminology",
   "metadata": {},
   "outputs": [],
   "source": [
    "animals.append('dog')"
   ]
  },
  {
   "cell_type": "code",
   "execution_count": 23,
   "id": "extra-battlefield",
   "metadata": {},
   "outputs": [
    {
     "data": {
      "text/plain": [
       "['elefant', 'tiger', 'lion', 'camel', 'otter', 'dog']"
      ]
     },
     "execution_count": 23,
     "metadata": {},
     "output_type": "execute_result"
    }
   ],
   "source": [
    "animals"
   ]
  },
  {
   "cell_type": "code",
   "execution_count": 25,
   "id": "lightweight-singing",
   "metadata": {},
   "outputs": [],
   "source": [
    "animals.insert(2,\"monkey\")"
   ]
  },
  {
   "cell_type": "code",
   "execution_count": 26,
   "id": "roman-struggle",
   "metadata": {},
   "outputs": [
    {
     "data": {
      "text/plain": [
       "['elefant', 'tiger', 'monkey', 'lion', 'camel', 'otter', 'dog']"
      ]
     },
     "execution_count": 26,
     "metadata": {},
     "output_type": "execute_result"
    }
   ],
   "source": [
    "animals"
   ]
  },
  {
   "cell_type": "code",
   "execution_count": 27,
   "id": "combined-stock",
   "metadata": {},
   "outputs": [
    {
     "data": {
      "text/plain": [
       "['monkey', 'lion', 'camel', 'otter']"
      ]
     },
     "execution_count": 27,
     "metadata": {},
     "output_type": "execute_result"
    }
   ],
   "source": [
    "animals[2:6]"
   ]
  },
  {
   "cell_type": "code",
   "execution_count": 28,
   "id": "surgical-ranking",
   "metadata": {},
   "outputs": [
    {
     "data": {
      "text/plain": [
       "7"
      ]
     },
     "execution_count": 28,
     "metadata": {},
     "output_type": "execute_result"
    }
   ],
   "source": [
    "len(animals)"
   ]
  },
  {
   "cell_type": "code",
   "execution_count": 29,
   "id": "standing-athletics",
   "metadata": {},
   "outputs": [
    {
     "data": {
      "text/plain": [
       "['monkey', 'lion', 'camel', 'otter', 'dog']"
      ]
     },
     "execution_count": 29,
     "metadata": {},
     "output_type": "execute_result"
    }
   ],
   "source": [
    "animals[2:7]"
   ]
  },
  {
   "cell_type": "code",
   "execution_count": 30,
   "id": "photographic-reservoir",
   "metadata": {},
   "outputs": [
    {
     "data": {
      "text/plain": [
       "['monkey', 'lion', 'camel', 'otter', 'dog']"
      ]
     },
     "execution_count": 30,
     "metadata": {},
     "output_type": "execute_result"
    }
   ],
   "source": [
    "animals[2:67]"
   ]
  },
  {
   "cell_type": "code",
   "execution_count": 31,
   "id": "determined-teens",
   "metadata": {},
   "outputs": [
    {
     "data": {
      "text/plain": [
       "[0, 1, 2, 4, 5, 6, 7, 8, 9]"
      ]
     },
     "execution_count": 31,
     "metadata": {},
     "output_type": "execute_result"
    }
   ],
   "source": [
    "numbers[0:3]+numbers[4:10]"
   ]
  },
  {
   "cell_type": "code",
   "execution_count": 50,
   "id": "political-obligation",
   "metadata": {},
   "outputs": [
    {
     "data": {
      "text/plain": [
       "[0, 2, 4, 6, 8]"
      ]
     },
     "execution_count": 50,
     "metadata": {},
     "output_type": "execute_result"
    }
   ],
   "source": [
    "numbers[0:10:2]"
   ]
  },
  {
   "cell_type": "code",
   "execution_count": 33,
   "id": "boring-neutral",
   "metadata": {},
   "outputs": [
    {
     "data": {
      "text/plain": [
       "int"
      ]
     },
     "execution_count": 33,
     "metadata": {},
     "output_type": "execute_result"
    }
   ],
   "source": [
    "type(len(animals))"
   ]
  },
  {
   "cell_type": "code",
   "execution_count": 34,
   "id": "french-reception",
   "metadata": {},
   "outputs": [
    {
     "data": {
      "text/plain": [
       "9"
      ]
     },
     "execution_count": 34,
     "metadata": {},
     "output_type": "execute_result"
    }
   ],
   "source": [
    "max(numbers)"
   ]
  },
  {
   "cell_type": "code",
   "execution_count": 35,
   "id": "timely-description",
   "metadata": {},
   "outputs": [],
   "source": [
    "x=numbers[2]"
   ]
  },
  {
   "cell_type": "code",
   "execution_count": 36,
   "id": "better-range",
   "metadata": {},
   "outputs": [
    {
     "data": {
      "text/plain": [
       "2"
      ]
     },
     "execution_count": 36,
     "metadata": {},
     "output_type": "execute_result"
    }
   ],
   "source": [
    "x"
   ]
  },
  {
   "cell_type": "code",
   "execution_count": 37,
   "id": "minor-provincial",
   "metadata": {},
   "outputs": [
    {
     "data": {
      "text/plain": [
       "8"
      ]
     },
     "execution_count": 37,
     "metadata": {},
     "output_type": "execute_result"
    }
   ],
   "source": [
    "2**3"
   ]
  },
  {
   "cell_type": "code",
   "execution_count": 38,
   "id": "animated-montreal",
   "metadata": {},
   "outputs": [
    {
     "data": {
      "text/plain": [
       "512"
      ]
     },
     "execution_count": 38,
     "metadata": {},
     "output_type": "execute_result"
    }
   ],
   "source": [
    "2**3**2"
   ]
  },
  {
   "cell_type": "code",
   "execution_count": 39,
   "id": "portuguese-eagle",
   "metadata": {},
   "outputs": [
    {
     "data": {
      "text/plain": [
       "1.0"
      ]
     },
     "execution_count": 39,
     "metadata": {},
     "output_type": "execute_result"
    }
   ],
   "source": [
    "21/3/7"
   ]
  },
  {
   "cell_type": "code",
   "execution_count": 40,
   "id": "ultimate-placement",
   "metadata": {},
   "outputs": [],
   "source": [
    "square=x**2"
   ]
  },
  {
   "cell_type": "code",
   "execution_count": 41,
   "id": "informed-cooperative",
   "metadata": {},
   "outputs": [
    {
     "data": {
      "text/plain": [
       "4"
      ]
     },
     "execution_count": 41,
     "metadata": {},
     "output_type": "execute_result"
    }
   ],
   "source": [
    "square"
   ]
  },
  {
   "cell_type": "code",
   "execution_count": 44,
   "id": "restricted-albania",
   "metadata": {},
   "outputs": [],
   "source": [
    "x=3"
   ]
  },
  {
   "cell_type": "code",
   "execution_count": 45,
   "id": "lined-shopper",
   "metadata": {},
   "outputs": [
    {
     "data": {
      "text/plain": [
       "4"
      ]
     },
     "execution_count": 45,
     "metadata": {},
     "output_type": "execute_result"
    }
   ],
   "source": [
    "square"
   ]
  },
  {
   "cell_type": "code",
   "execution_count": 46,
   "id": "radio-lecture",
   "metadata": {},
   "outputs": [],
   "source": [
    "square=x**2"
   ]
  },
  {
   "cell_type": "code",
   "execution_count": 47,
   "id": "supposed-license",
   "metadata": {},
   "outputs": [
    {
     "data": {
      "text/plain": [
       "9"
      ]
     },
     "execution_count": 47,
     "metadata": {},
     "output_type": "execute_result"
    }
   ],
   "source": [
    "square"
   ]
  },
  {
   "cell_type": "code",
   "execution_count": 48,
   "id": "progressive-arabic",
   "metadata": {},
   "outputs": [
    {
     "data": {
      "text/plain": [
       "['elefant', 'tiger', 'monkey', 'lion', 'camel', 'otter']"
      ]
     },
     "execution_count": 48,
     "metadata": {},
     "output_type": "execute_result"
    }
   ],
   "source": [
    "animals[0:len(animals)-1]"
   ]
  },
  {
   "cell_type": "code",
   "execution_count": 53,
   "id": "collective-toolbox",
   "metadata": {},
   "outputs": [
    {
     "data": {
      "text/plain": [
       "[3,\n",
       " 14,\n",
       " 25,\n",
       " 36,\n",
       " 47,\n",
       " 58,\n",
       " 69,\n",
       " 80,\n",
       " 91,\n",
       " 102,\n",
       " 113,\n",
       " 124,\n",
       " 135,\n",
       " 146,\n",
       " 157,\n",
       " 168,\n",
       " 179,\n",
       " 190,\n",
       " 201,\n",
       " 212,\n",
       " 223,\n",
       " 234,\n",
       " 245,\n",
       " 256,\n",
       " 267,\n",
       " 278,\n",
       " 289]"
      ]
     },
     "execution_count": 53,
     "metadata": {},
     "output_type": "execute_result"
    }
   ],
   "source": [
    "list(range(3,300,11))"
   ]
  },
  {
   "cell_type": "code",
   "execution_count": 54,
   "id": "balanced-corrections",
   "metadata": {},
   "outputs": [
    {
     "data": {
      "text/plain": [
       "[200,\n",
       " 195,\n",
       " 190,\n",
       " 185,\n",
       " 180,\n",
       " 175,\n",
       " 170,\n",
       " 165,\n",
       " 160,\n",
       " 155,\n",
       " 150,\n",
       " 145,\n",
       " 140,\n",
       " 135,\n",
       " 130,\n",
       " 125,\n",
       " 120,\n",
       " 115,\n",
       " 110,\n",
       " 105,\n",
       " 100,\n",
       " 95,\n",
       " 90,\n",
       " 85,\n",
       " 80,\n",
       " 75,\n",
       " 70,\n",
       " 65,\n",
       " 60,\n",
       " 55,\n",
       " 50,\n",
       " 45,\n",
       " 40,\n",
       " 35,\n",
       " 30,\n",
       " 25,\n",
       " 20,\n",
       " 15,\n",
       " 10,\n",
       " 5]"
      ]
     },
     "execution_count": 54,
     "metadata": {},
     "output_type": "execute_result"
    }
   ],
   "source": [
    "list(range(200,1,-5))"
   ]
  },
  {
   "cell_type": "code",
   "execution_count": 56,
   "id": "mechanical-recruitment",
   "metadata": {},
   "outputs": [],
   "source": [
    "statement=2020**2021>2021**2020"
   ]
  },
  {
   "cell_type": "code",
   "execution_count": 57,
   "id": "detected-toolbox",
   "metadata": {},
   "outputs": [
    {
     "data": {
      "text/plain": [
       "bool"
      ]
     },
     "execution_count": 57,
     "metadata": {},
     "output_type": "execute_result"
    }
   ],
   "source": [
    "type(statement)"
   ]
  },
  {
   "cell_type": "code",
   "execution_count": 58,
   "id": "lucky-narrative",
   "metadata": {},
   "outputs": [
    {
     "data": {
      "text/plain": [
       "True"
      ]
     },
     "execution_count": 58,
     "metadata": {},
     "output_type": "execute_result"
    }
   ],
   "source": [
    "statement"
   ]
  },
  {
   "cell_type": "code",
   "execution_count": 59,
   "id": "gothic-repair",
   "metadata": {},
   "outputs": [
    {
     "data": {
      "text/plain": [
       "False"
      ]
     },
     "execution_count": 59,
     "metadata": {},
     "output_type": "execute_result"
    }
   ],
   "source": [
    "21!=21"
   ]
  },
  {
   "cell_type": "code",
   "execution_count": 60,
   "id": "political-motorcycle",
   "metadata": {},
   "outputs": [
    {
     "ename": "SyntaxError",
     "evalue": "unexpected EOF while parsing (<ipython-input-60-404047eea22d>, line 1)",
     "output_type": "error",
     "traceback": [
      "\u001b[0;36m  File \u001b[0;32m\"<ipython-input-60-404047eea22d>\"\u001b[0;36m, line \u001b[0;32m1\u001b[0m\n\u001b[0;31m    def do():\u001b[0m\n\u001b[0m             ^\u001b[0m\n\u001b[0;31mSyntaxError\u001b[0m\u001b[0;31m:\u001b[0m unexpected EOF while parsing\n"
     ]
    }
   ],
   "source": [
    "def do():\n",
    "    "
   ]
  },
  {
   "cell_type": "code",
   "execution_count": null,
   "id": "narrow-major",
   "metadata": {},
   "outputs": [],
   "source": [
    "    "
   ]
  }
 ],
 "metadata": {
  "kernelspec": {
   "display_name": "Python 3",
   "language": "python",
   "name": "python3"
  },
  "language_info": {
   "codemirror_mode": {
    "name": "ipython",
    "version": 3
   },
   "file_extension": ".py",
   "mimetype": "text/x-python",
   "name": "python",
   "nbconvert_exporter": "python",
   "pygments_lexer": "ipython3",
   "version": "3.6.12"
  }
 },
 "nbformat": 4,
 "nbformat_minor": 5
}
